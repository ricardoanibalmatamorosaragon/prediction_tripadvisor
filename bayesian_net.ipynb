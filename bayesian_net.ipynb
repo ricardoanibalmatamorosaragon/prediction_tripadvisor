{
 "cells": [
  {
   "cell_type": "code",
   "execution_count": 307,
   "metadata": {},
   "outputs": [],
   "source": [
    "from libpgm.nodedata import NodeData\n",
    "from libpgm.graphskeleton import GraphSkeleton\n",
    "from libpgm.discretebayesiannetwork import DiscreteBayesianNetwork\n",
    "from libpgm.lgbayesiannetwork import LGBayesianNetwork\n",
    "from libpgm.hybayesiannetwork import HyBayesianNetwork\n",
    "from libpgm.dyndiscbayesiannetwork import DynDiscBayesianNetwork\n",
    "from libpgm.tablecpdfactorization import TableCPDFactorization\n",
    "from libpgm.sampleaggregator import SampleAggregator\n",
    "from libpgm.pgmlearner import PGMLearner\n",
    "\n",
    "#create table\n",
    "from prettytable import PrettyTable\n",
    "\n",
    "#read csv\n",
    "import pandas as pd"
   ]
  },
  {
   "cell_type": "code",
   "execution_count": 366,
   "metadata": {},
   "outputs": [
    {
     "name": "stdout",
     "output_type": "stream",
     "text": [
      "190509\n"
     ]
    },
    {
     "data": {
      "text/html": [
       "<div>\n",
       "<style scoped>\n",
       "    .dataframe tbody tr th:only-of-type {\n",
       "        vertical-align: middle;\n",
       "    }\n",
       "\n",
       "    .dataframe tbody tr th {\n",
       "        vertical-align: top;\n",
       "    }\n",
       "\n",
       "    .dataframe thead th {\n",
       "        text-align: right;\n",
       "    }\n",
       "</style>\n",
       "<table border=\"1\" class=\"dataframe\">\n",
       "  <thead>\n",
       "    <tr style=\"text-align: right;\">\n",
       "      <th></th>\n",
       "      <th>id</th>\n",
       "      <th>hotel</th>\n",
       "      <th>reader</th>\n",
       "      <th>helpful</th>\n",
       "      <th>overall</th>\n",
       "      <th>value</th>\n",
       "      <th>room</th>\n",
       "      <th>location</th>\n",
       "      <th>clean</th>\n",
       "      <th>check</th>\n",
       "      <th>service</th>\n",
       "      <th>business</th>\n",
       "      <th>target</th>\n",
       "    </tr>\n",
       "  </thead>\n",
       "  <tbody>\n",
       "    <tr>\n",
       "      <th>0</th>\n",
       "      <td>0</td>\n",
       "      <td>hotel_231505</td>\n",
       "      <td>-1</td>\n",
       "      <td>-1</td>\n",
       "      <td>5</td>\n",
       "      <td>5</td>\n",
       "      <td>5</td>\n",
       "      <td>5</td>\n",
       "      <td>5</td>\n",
       "      <td>5</td>\n",
       "      <td>5</td>\n",
       "      <td>5</td>\n",
       "      <td>good</td>\n",
       "    </tr>\n",
       "    <tr>\n",
       "      <th>1</th>\n",
       "      <td>1</td>\n",
       "      <td>hotel_231505</td>\n",
       "      <td>-1</td>\n",
       "      <td>-1</td>\n",
       "      <td>1</td>\n",
       "      <td>1</td>\n",
       "      <td>1</td>\n",
       "      <td>3</td>\n",
       "      <td>2</td>\n",
       "      <td>1</td>\n",
       "      <td>3</td>\n",
       "      <td>3</td>\n",
       "      <td>bad</td>\n",
       "    </tr>\n",
       "    <tr>\n",
       "      <th>2</th>\n",
       "      <td>2</td>\n",
       "      <td>hotel_231505</td>\n",
       "      <td>-1</td>\n",
       "      <td>-1</td>\n",
       "      <td>3</td>\n",
       "      <td>3</td>\n",
       "      <td>2</td>\n",
       "      <td>3</td>\n",
       "      <td>4</td>\n",
       "      <td>2</td>\n",
       "      <td>2</td>\n",
       "      <td>3</td>\n",
       "      <td>bad</td>\n",
       "    </tr>\n",
       "    <tr>\n",
       "      <th>3</th>\n",
       "      <td>3</td>\n",
       "      <td>hotel_231505</td>\n",
       "      <td>1</td>\n",
       "      <td>0</td>\n",
       "      <td>1</td>\n",
       "      <td>1</td>\n",
       "      <td>1</td>\n",
       "      <td>3</td>\n",
       "      <td>1</td>\n",
       "      <td>1</td>\n",
       "      <td>1</td>\n",
       "      <td>3</td>\n",
       "      <td>bad</td>\n",
       "    </tr>\n",
       "    <tr>\n",
       "      <th>4</th>\n",
       "      <td>4</td>\n",
       "      <td>hotel_231505</td>\n",
       "      <td>1</td>\n",
       "      <td>1</td>\n",
       "      <td>5</td>\n",
       "      <td>5</td>\n",
       "      <td>5</td>\n",
       "      <td>3</td>\n",
       "      <td>5</td>\n",
       "      <td>5</td>\n",
       "      <td>5</td>\n",
       "      <td>5</td>\n",
       "      <td>good</td>\n",
       "    </tr>\n",
       "  </tbody>\n",
       "</table>\n",
       "</div>"
      ],
      "text/plain": [
       "   id          hotel  reader  helpful  overall  value  room  location  clean  \\\n",
       "0   0   hotel_231505      -1       -1        5      5     5         5      5   \n",
       "1   1   hotel_231505      -1       -1        1      1     1         3      2   \n",
       "2   2   hotel_231505      -1       -1        3      3     2         3      4   \n",
       "3   3   hotel_231505       1        0        1      1     1         3      1   \n",
       "4   4   hotel_231505       1        1        5      5     5         3      5   \n",
       "\n",
       "   check  service  business target  \n",
       "0      5        5         5   good  \n",
       "1      1        3         3    bad  \n",
       "2      2        2         3    bad  \n",
       "3      1        1         3    bad  \n",
       "4      5        5         5   good  "
      ]
     },
     "execution_count": 366,
     "metadata": {},
     "output_type": "execute_result"
    }
   ],
   "source": [
    "data=pd.read_csv(\"reviews_target.csv\")\n",
    "\n",
    "data.query('overall > 0',inplace=True)\n",
    "print(len(data))\n",
    "data.head()"
   ]
  },
  {
   "cell_type": "code",
   "execution_count": 368,
   "metadata": {},
   "outputs": [
    {
     "data": {
      "text/plain": [
       "44577"
      ]
     },
     "execution_count": 368,
     "metadata": {},
     "output_type": "execute_result"
    }
   ],
   "source": [
    "bad=data.query('target == \" bad\" and overall >0')\n",
    "good=data.query('target == \" good\"')\n",
    "bad_n=len(bad)\n",
    "good_n=len(good)\n",
    "\n",
    "bad_n\n",
    "\n"
   ]
  },
  {
   "cell_type": "code",
   "execution_count": 384,
   "metadata": {},
   "outputs": [
    {
     "data": {
      "text/plain": [
       "[38, 467, 4645, 42326, 98456]"
      ]
     },
     "execution_count": 384,
     "metadata": {},
     "output_type": "execute_result"
    }
   ],
   "source": [
    "#numero di volte per ogni valore di clean dato good\n",
    "clean_g_1=data.query('target == \" good\" and clean == 1')\n",
    "clean_g_2=data.query('target == \" good\" and clean == 2')\n",
    "clean_g_3=data.query('target == \" good\" and clean == 3')\n",
    "clean_g_4=data.query('target == \" good\" and clean == 4')\n",
    "clean_g_5=data.query('target == \" good\" and clean == 5')\n",
    "clean_g=[len(clean_g_1),len(clean_g_2),len(clean_g_3),len(clean_g_4),len(clean_g_5)]\n",
    "clean_g"
   ]
  },
  {
   "cell_type": "code",
   "execution_count": 385,
   "metadata": {},
   "outputs": [
    {
     "data": {
      "text/plain": [
       "[7673, 9820, 14536, 9042, 3506]"
      ]
     },
     "execution_count": 385,
     "metadata": {},
     "output_type": "execute_result"
    }
   ],
   "source": [
    "#numero di volte per ogni valore di clean dato bad\n",
    "clean_b_1=data.query('target == \" bad\" and clean == 1')\n",
    "clean_b_2=data.query('target == \" bad\" and clean == 2')\n",
    "clean_b_3=data.query('target == \" bad\" and clean == 3')\n",
    "clean_b_4=data.query('target == \" bad\" and clean == 4')\n",
    "clean_b_5=data.query('target == \" bad\" and clean == 5')\n",
    "clean_b=[len(clean_b_1),len(clean_b_2),len(clean_b_3),len(clean_b_4),len(clean_b_5)]\n",
    "clean_b"
   ]
  },
  {
   "cell_type": "code",
   "execution_count": 386,
   "metadata": {},
   "outputs": [],
   "source": [
    "#numero di volte per ogni valore di value dato good\n",
    "value_g_1=data.query('target == \" good\" and value == 1')\n",
    "value_g_2=data.query('target == \" good\" and value == 2')\n",
    "value_g_3=data.query('target == \" good\" and value == 3')\n",
    "value_g_4=data.query('target == \" good\" and value == 4')\n",
    "value_g_5=data.query('target == \" good\" and value == 5')\n",
    "value_g=[len(value_g_1),len(value_g_2),len(value_g_3),len(value_g_4),len(value_g_5)]"
   ]
  },
  {
   "cell_type": "code",
   "execution_count": 387,
   "metadata": {},
   "outputs": [],
   "source": [
    "#numero di volte per ogni valore di value dato bad\n",
    "value_b_1=data.query('target == \" bad\" and value == 1')\n",
    "value_b_2=data.query('target == \" bad\" and value == 2')\n",
    "value_b_3=data.query('target == \" bad\" and value == 3')\n",
    "value_b_4=data.query('target == \" bad\" and value == 4')\n",
    "value_b_5=data.query('target == \" bad\" and value == 5')\n",
    "value_b=[len(value_b_1),len(value_b_2),len(value_b_3),len(value_b_4),len(value_b_5)]"
   ]
  },
  {
   "cell_type": "code",
   "execution_count": 389,
   "metadata": {},
   "outputs": [],
   "source": [
    "#numero di volte per ogni valore di room dato good\n",
    "room_g_1=data.query('target == \" good\" and room == 1')\n",
    "room_g_2=data.query('target == \" good\" and room == 2')\n",
    "room_g_3=data.query('target == \" good\" and room == 3')\n",
    "room_g_4=data.query('target == \" good\" and room == 4')\n",
    "room_g_5=data.query('target == \" good\" and room == 5')\n",
    "room_g=[len(room_g_1),len(room_g_2),len(room_g_3),len(room_g_4),len(room_g_5)]"
   ]
  },
  {
   "cell_type": "code",
   "execution_count": 390,
   "metadata": {},
   "outputs": [],
   "source": [
    "#numero di volte per ogni valore di room dato bad\n",
    "room_b_1=data.query('target == \" bad\" and room == 1')\n",
    "room_b_2=data.query('target == \" bad\" and room == 2')\n",
    "room_b_3=data.query('target == \" bad\" and room == 3')\n",
    "room_b_4=data.query('target == \" bad\" and room == 4')\n",
    "room_b_5=data.query('target == \" bad\" and room == 5')\n",
    "room_b=[len(room_b_1),len(room_b_2),len(room_b_3),len(room_b_4),len(room_b_5)]"
   ]
  },
  {
   "cell_type": "code",
   "execution_count": 391,
   "metadata": {},
   "outputs": [],
   "source": [
    "#numero di volte per ogni valore di location dato good\n",
    "loc_g_1=data.query('target == \" good\" and location == 1')\n",
    "loc_g_2=data.query('target == \" good\" and location == 2')\n",
    "loc_g_3=data.query('target == \" good\" and location == 3')\n",
    "loc_g_4=data.query('target == \" good\" and location == 4')\n",
    "loc_g_5=data.query('target == \" good\" and location == 5')\n",
    "loc_g=[len(loc_g_1),len(loc_g_2),len(loc_g_3),len(loc_g_4),len(loc_g_5)]"
   ]
  },
  {
   "cell_type": "code",
   "execution_count": 393,
   "metadata": {},
   "outputs": [],
   "source": [
    "#numero di volte per ogni valore di location dato bad\n",
    "loc_b_1=data.query('target == \" bad\" and location == 1')\n",
    "loc_b_2=data.query('target == \" bad\" and location == 2')\n",
    "loc_b_3=data.query('target == \" bad\" and location == 3')\n",
    "loc_b_4=data.query('target == \" bad\" and location == 4')\n",
    "loc_b_5=data.query('target == \" bad\" and location == 5')\n",
    "loc_b=[len(loc_b_1),len(loc_b_2),len(loc_b_3),len(loc_b_4),len(loc_b_5)]"
   ]
  },
  {
   "cell_type": "code",
   "execution_count": 394,
   "metadata": {},
   "outputs": [],
   "source": [
    "#numero di volte per ogni valore di check dato good\n",
    "check_g_1=data.query('target == \" good\" and check == 1')\n",
    "check_g_2=data.query('target == \" good\" and check == 2')\n",
    "check_g_3=data.query('target == \" good\" and check == 3')\n",
    "check_g_4=data.query('target == \" good\" and check == 4')\n",
    "check_g_5=data.query('target == \" good\" and check == 5')\n",
    "check_g=[len(check_g_1),len(check_g_2),len(check_g_3),len(check_g_4),len(check_g_5)]"
   ]
  },
  {
   "cell_type": "code",
   "execution_count": 395,
   "metadata": {},
   "outputs": [],
   "source": [
    "#numero di volte per ogni valore di check dato bad\n",
    "check_b_1=data.query('target == \" bad\" and check == 1')\n",
    "check_b_2=data.query('target == \" bad\" and check == 2')\n",
    "check_b_3=data.query('target == \" bad\" and check == 3')\n",
    "check_b_4=data.query('target == \" bad\" and check == 4')\n",
    "check_b_5=data.query('target == \" bad\" and check == 5')\n",
    "check_b=[len(check_b_1),len(check_b_2),len(check_b_3),len(check_b_4),len(check_b_5)]"
   ]
  },
  {
   "cell_type": "code",
   "execution_count": 396,
   "metadata": {},
   "outputs": [],
   "source": [
    "#numero di volte per ogni valore di service dato good\n",
    "ser_g_1=data.query('target == \" good\" and service == 1')\n",
    "ser_g_2=data.query('target == \" good\" and service == 2')\n",
    "ser_g_3=data.query('target == \" good\" and service == 3')\n",
    "ser_g_4=data.query('target == \" good\" and service == 4')\n",
    "ser_g_5=data.query('target == \" good\" and service == 5')\n",
    "ser_g=[len(ser_g_1),len(ser_g_2),len(ser_g_3),len(ser_g_4),len(ser_g_5)]"
   ]
  },
  {
   "cell_type": "code",
   "execution_count": 397,
   "metadata": {},
   "outputs": [],
   "source": [
    "#numero di volte per ogni valore di service dato bad\n",
    "ser_b_1=data.query('target == \" bad\" and service == 1')\n",
    "ser_b_2=data.query('target == \" bad\" and service == 2')\n",
    "ser_b_3=data.query('target == \" bad\" and service == 3')\n",
    "ser_b_4=data.query('target == \" bad\" and service == 4')\n",
    "ser_b_5=data.query('target == \" bad\" and service == 5')\n",
    "ser_b=[len(ser_b_1),len(ser_b_2),len(ser_b_3),len(ser_b_4),len(ser_b_5)]"
   ]
  },
  {
   "cell_type": "code",
   "execution_count": 398,
   "metadata": {},
   "outputs": [],
   "source": [
    "#numero di volte per ogni valore di business dato good\n",
    "b_g_1=data.query('target == \" good\" and business == 1')\n",
    "b_g_2=data.query('target == \" good\" and business == 2')\n",
    "b_g_3=data.query('target == \" good\" and business == 3')\n",
    "b_g_4=data.query('target == \" good\" and business == 4')\n",
    "b_g_5=data.query('target == \" good\" and business == 5')\n",
    "b_g=[len(b_g_1),len(b_g_2),len(b_g_3),len(b_g_4),len(b_g_5)]"
   ]
  },
  {
   "cell_type": "code",
   "execution_count": 399,
   "metadata": {},
   "outputs": [],
   "source": [
    "#numero di volte per ogni valore di service dato bad\n",
    "b_b_1=data.query('target == \" bad\" and business == 1')\n",
    "b_b_2=data.query('target == \" bad\" and business == 2')\n",
    "b_b_3=data.query('target == \" bad\" and business == 3')\n",
    "b_b_4=data.query('target == \" bad\" and business == 4')\n",
    "b_b_5=data.query('target == \" bad\" and business == 5')\n",
    "b_b=[len(b_b_1),len(b_b_2),len(b_b_3),len(b_b_4),len(b_b_5)]"
   ]
  },
  {
   "cell_type": "code",
   "execution_count": 380,
   "metadata": {},
   "outputs": [],
   "source": [
    "#create view to cpt\n",
    "def generate_cpt(name,array_g,array_b):\n",
    "    cpt= PrettyTable()\n",
    "    cpt.field_names =[\"P(\"+name+\"|target)\",1,2,3,4,5]\n",
    "    good_c=['good']\n",
    "    bad_c=['bad']\n",
    "    for i in range(len(array_g)):\n",
    "        good_c.append(float(array_g[i])/good_n)\n",
    "        bad_c.append(float(array_b[i])/bad_n)\n",
    "    cpt.add_row(good_c)\n",
    "    cpt.add_row(bad_c)\n",
    "    return cpt\n"
   ]
  },
  {
   "cell_type": "code",
   "execution_count": 401,
   "metadata": {},
   "outputs": [
    {
     "name": "stdout",
     "output_type": "stream",
     "text": [
      "+-----------------+-------------------+------------------+----------------+----------------+-----------------+\n",
      "| P(clean|target) |         1         |        2         |       3        |       4        |        5        |\n",
      "+-----------------+-------------------+------------------+----------------+----------------+-----------------+\n",
      "|       good      | 0.000260395252583 | 0.00320012060412 | 0.031829893375 | 0.290039196338 |  0.67467039443  |\n",
      "|       bad       |   0.172129124885  |  0.220292976198  | 0.326087444198 | 0.202840029612 | 0.0786504251071 |\n",
      "+-----------------+-------------------+------------------+----------------+----------------+-----------------+\n"
     ]
    }
   ],
   "source": [
    "print(generate_cpt(\"clean\",clean_g,clean_b))"
   ]
  },
  {
   "cell_type": "code",
   "execution_count": 403,
   "metadata": {},
   "outputs": [
    {
     "name": "stdout",
     "output_type": "stream",
     "text": [
      "+-----------------+-------------------+------------------+-----------------+-----------------+-----------------+\n",
      "| P(value|target) |         1         |        2         |        3        |        4        |        5        |\n",
      "+-----------------+-------------------+------------------+-----------------+-----------------+-----------------+\n",
      "|       good      | 0.000322067812406 | 0.00359071348299 | 0.0551147109613 |  0.387104952992 |  0.553867554752 |\n",
      "|       bad       |   0.241424950086  |  0.300895080423  |  0.36384234022  | 0.0787401574803 | 0.0150974717904 |\n",
      "+-----------------+-------------------+------------------+-----------------+-----------------+-----------------+\n"
     ]
    }
   ],
   "source": [
    "print(generate_cpt(\"value\",value_g,value_b))"
   ]
  },
  {
   "cell_type": "code",
   "execution_count": 405,
   "metadata": {},
   "outputs": [
    {
     "name": "stdout",
     "output_type": "stream",
     "text": [
      "+----------------+-------------------+-----------------+-----------------+----------------+----------------+\n",
      "| P(room|target) |         1         |        2        |        3        |       4        |       5        |\n",
      "+----------------+-------------------+-----------------+-----------------+----------------+----------------+\n",
      "|      good      | 0.000390592878875 | 0.0074760847518 | 0.0712523641148 | 0.375709234438 | 0.545171723817 |\n",
      "|      bad       |   0.223927137313  |  0.291248850304 |  0.326087444198 | 0.126500213114 | 0.032236355071 |\n",
      "+----------------+-------------------+-----------------+-----------------+----------------+----------------+\n"
     ]
    }
   ],
   "source": [
    "print(generate_cpt(\"room\",room_g,room_b))"
   ]
  },
  {
   "cell_type": "code",
   "execution_count": 407,
   "metadata": {},
   "outputs": [
    {
     "name": "stdout",
     "output_type": "stream",
     "text": [
      "+--------------------+-------------------+------------------+----------------+----------------+----------------+\n",
      "| P(location|target) |         1         |        2         |       3        |       4        |       5        |\n",
      "+--------------------+-------------------+------------------+----------------+----------------+----------------+\n",
      "|        good        | 0.000500232985226 | 0.00596853328948 | 0.034372173341 | 0.344872954527 | 0.614286105858 |\n",
      "|        bad         |   0.157390582587  |  0.227045337282  | 0.333983893039 | 0.167530340759 | 0.114049846333 |\n",
      "+--------------------+-------------------+------------------+----------------+----------------+----------------+\n"
     ]
    }
   ],
   "source": [
    "print(generate_cpt(\"location\",loc_g,loc_b))"
   ]
  },
  {
   "cell_type": "code",
   "execution_count": 409,
   "metadata": {},
   "outputs": [
    {
     "name": "stdout",
     "output_type": "stream",
     "text": [
      "+-----------------+------------------+-----------------+-----------------+-----------------+-----------------+\n",
      "| P(check|target) |        1         |        2        |        3        |        4        |        5        |\n",
      "+-----------------+------------------+-----------------+-----------------+-----------------+-----------------+\n",
      "|       good      | 0.00198037442096 | 0.0090384562673 | 0.0444042430721 |  0.340638105419 |  0.603938820821 |\n",
      "|       bad       |  0.219104022254  |  0.258698431927 |  0.375911344415 | 0.0997599659017 | 0.0465262355026 |\n",
      "+-----------------+------------------+-----------------+-----------------+-----------------+-----------------+\n"
     ]
    }
   ],
   "source": [
    "print(generate_cpt(\"check\",check_g,check_b))"
   ]
  },
  {
   "cell_type": "code",
   "execution_count": 413,
   "metadata": {},
   "outputs": [
    {
     "name": "stdout",
     "output_type": "stream",
     "text": [
      "+-------------------+-------------------+------------------+-----------------+----------------+-----------------+\n",
      "| P(service|target) |         1         |        2         |        3        |       4        |        5        |\n",
      "+-------------------+-------------------+------------------+-----------------+----------------+-----------------+\n",
      "|        good       | 0.000925088397336 | 0.00768851245786 | 0.0565811473837 | 0.326542499246 |  0.608262752515 |\n",
      "|        bad        |   0.234941786123  |  0.253179890975  |  0.331987347735 | 0.136348341073 | 0.0435426340938 |\n",
      "+-------------------+-------------------+------------------+-----------------+----------------+-----------------+\n"
     ]
    }
   ],
   "source": [
    "print(generate_cpt(\"service\",ser_g,ser_b))"
   ]
  },
  {
   "cell_type": "code",
   "execution_count": 414,
   "metadata": {},
   "outputs": [
    {
     "name": "stdout",
     "output_type": "stream",
     "text": [
      "+--------------------+------------------+----------------+-----------------+-----------------+-----------------+\n",
      "| P(business|target) |        1         |       2        |        3        |        4        |        5        |\n",
      "+--------------------+------------------+----------------+-----------------+-----------------+-----------------+\n",
      "|        good        | 0.00322067812406 | 0.012382479511 | 0.0736781514678 |  0.386906230299 |  0.523812460598 |\n",
      "|        bad         |  0.231105727169  | 0.28537137986  |  0.40579222469  | 0.0558584023151 | 0.0218722659668 |\n",
      "+--------------------+------------------+----------------+-----------------+-----------------+-----------------+\n"
     ]
    }
   ],
   "source": [
    "print(generate_cpt(\"business\",b_g,b_b))"
   ]
  },
  {
   "cell_type": "code",
   "execution_count": 411,
   "metadata": {},
   "outputs": [],
   "source": [
    "skel= GraphSkeleton()"
   ]
  },
  {
   "cell_type": "code",
   "execution_count": 412,
   "metadata": {},
   "outputs": [],
   "source": [
    "skel.load('./skeleton.txt')"
   ]
  },
  {
   "cell_type": "code",
   "execution_count": 87,
   "metadata": {},
   "outputs": [],
   "source": [
    "skel.toporder()"
   ]
  },
  {
   "cell_type": "code",
   "execution_count": 88,
   "metadata": {},
   "outputs": [
    {
     "data": {
      "text/plain": [
       "[u'target']"
      ]
     },
     "execution_count": 88,
     "metadata": {},
     "output_type": "execute_result"
    }
   ],
   "source": [
    "skel.getparents(\"room\")"
   ]
  },
  {
   "cell_type": "code",
   "execution_count": 89,
   "metadata": {},
   "outputs": [
    {
     "data": {
      "text/plain": [
       "[u'clean', u'value', u'room', u'location', u'check', u'service', u'business']"
      ]
     },
     "execution_count": 89,
     "metadata": {},
     "output_type": "execute_result"
    }
   ],
   "source": [
    "skel.getchildren(\"target\")"
   ]
  }
 ],
 "metadata": {
  "kernelspec": {
   "display_name": "Python 2",
   "language": "python",
   "name": "python2"
  },
  "language_info": {
   "codemirror_mode": {
    "name": "ipython",
    "version": 2
   },
   "file_extension": ".py",
   "mimetype": "text/x-python",
   "name": "python",
   "nbconvert_exporter": "python",
   "pygments_lexer": "ipython2",
   "version": "2.7.15rc1"
  }
 },
 "nbformat": 4,
 "nbformat_minor": 2
}
