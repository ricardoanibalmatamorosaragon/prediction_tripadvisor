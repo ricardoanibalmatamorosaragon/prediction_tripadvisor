{
 "cells": [
  {
   "cell_type": "code",
   "execution_count": 307,
   "metadata": {},
   "outputs": [],
   "source": [
    "from libpgm.nodedata import NodeData\n",
    "from libpgm.graphskeleton import GraphSkeleton\n",
    "from libpgm.discretebayesiannetwork import DiscreteBayesianNetwork\n",
    "from libpgm.lgbayesiannetwork import LGBayesianNetwork\n",
    "from libpgm.hybayesiannetwork import HyBayesianNetwork\n",
    "from libpgm.dyndiscbayesiannetwork import DynDiscBayesianNetwork\n",
    "from libpgm.tablecpdfactorization import TableCPDFactorization\n",
    "from libpgm.sampleaggregator import SampleAggregator\n",
    "from libpgm.pgmlearner import PGMLearner\n",
    "\n",
    "#create table\n",
    "from prettytable import PrettyTable\n",
    "\n",
    "#read csv\n",
    "import pandas as pd"
   ]
  },
  {
   "cell_type": "code",
   "execution_count": 308,
   "metadata": {},
   "outputs": [
    {
     "name": "stdout",
     "output_type": "stream",
     "text": [
      "192263\n"
     ]
    },
    {
     "data": {
      "text/html": [
       "<div>\n",
       "<style scoped>\n",
       "    .dataframe tbody tr th:only-of-type {\n",
       "        vertical-align: middle;\n",
       "    }\n",
       "\n",
       "    .dataframe tbody tr th {\n",
       "        vertical-align: top;\n",
       "    }\n",
       "\n",
       "    .dataframe thead th {\n",
       "        text-align: right;\n",
       "    }\n",
       "</style>\n",
       "<table border=\"1\" class=\"dataframe\">\n",
       "  <thead>\n",
       "    <tr style=\"text-align: right;\">\n",
       "      <th></th>\n",
       "      <th>id</th>\n",
       "      <th>hotel</th>\n",
       "      <th>reader</th>\n",
       "      <th>helpful</th>\n",
       "      <th>overall</th>\n",
       "      <th>value</th>\n",
       "      <th>room</th>\n",
       "      <th>location</th>\n",
       "      <th>clean</th>\n",
       "      <th>check</th>\n",
       "      <th>service</th>\n",
       "      <th>business</th>\n",
       "      <th>target</th>\n",
       "    </tr>\n",
       "  </thead>\n",
       "  <tbody>\n",
       "    <tr>\n",
       "      <th>0</th>\n",
       "      <td>0</td>\n",
       "      <td>hotel_231505</td>\n",
       "      <td>-1</td>\n",
       "      <td>-1</td>\n",
       "      <td>5</td>\n",
       "      <td>5</td>\n",
       "      <td>5</td>\n",
       "      <td>5</td>\n",
       "      <td>5</td>\n",
       "      <td>5</td>\n",
       "      <td>5</td>\n",
       "      <td>5</td>\n",
       "      <td>good</td>\n",
       "    </tr>\n",
       "    <tr>\n",
       "      <th>1</th>\n",
       "      <td>1</td>\n",
       "      <td>hotel_231505</td>\n",
       "      <td>-1</td>\n",
       "      <td>-1</td>\n",
       "      <td>1</td>\n",
       "      <td>1</td>\n",
       "      <td>1</td>\n",
       "      <td>3</td>\n",
       "      <td>2</td>\n",
       "      <td>1</td>\n",
       "      <td>3</td>\n",
       "      <td>3</td>\n",
       "      <td>bad</td>\n",
       "    </tr>\n",
       "    <tr>\n",
       "      <th>2</th>\n",
       "      <td>2</td>\n",
       "      <td>hotel_231505</td>\n",
       "      <td>-1</td>\n",
       "      <td>-1</td>\n",
       "      <td>3</td>\n",
       "      <td>3</td>\n",
       "      <td>2</td>\n",
       "      <td>3</td>\n",
       "      <td>4</td>\n",
       "      <td>2</td>\n",
       "      <td>2</td>\n",
       "      <td>3</td>\n",
       "      <td>bad</td>\n",
       "    </tr>\n",
       "    <tr>\n",
       "      <th>3</th>\n",
       "      <td>3</td>\n",
       "      <td>hotel_231505</td>\n",
       "      <td>1</td>\n",
       "      <td>0</td>\n",
       "      <td>1</td>\n",
       "      <td>1</td>\n",
       "      <td>1</td>\n",
       "      <td>3</td>\n",
       "      <td>1</td>\n",
       "      <td>1</td>\n",
       "      <td>1</td>\n",
       "      <td>3</td>\n",
       "      <td>bad</td>\n",
       "    </tr>\n",
       "    <tr>\n",
       "      <th>4</th>\n",
       "      <td>4</td>\n",
       "      <td>hotel_231505</td>\n",
       "      <td>1</td>\n",
       "      <td>1</td>\n",
       "      <td>5</td>\n",
       "      <td>5</td>\n",
       "      <td>5</td>\n",
       "      <td>3</td>\n",
       "      <td>5</td>\n",
       "      <td>5</td>\n",
       "      <td>5</td>\n",
       "      <td>5</td>\n",
       "      <td>good</td>\n",
       "    </tr>\n",
       "  </tbody>\n",
       "</table>\n",
       "</div>"
      ],
      "text/plain": [
       "   id          hotel  reader  helpful  overall  value  room  location  clean  \\\n",
       "0   0   hotel_231505      -1       -1        5      5     5         5      5   \n",
       "1   1   hotel_231505      -1       -1        1      1     1         3      2   \n",
       "2   2   hotel_231505      -1       -1        3      3     2         3      4   \n",
       "3   3   hotel_231505       1        0        1      1     1         3      1   \n",
       "4   4   hotel_231505       1        1        5      5     5         3      5   \n",
       "\n",
       "   check  service  business target  \n",
       "0      5        5         5   good  \n",
       "1      1        3         3    bad  \n",
       "2      2        2         3    bad  \n",
       "3      1        1         3    bad  \n",
       "4      5        5         5   good  "
      ]
     },
     "execution_count": 308,
     "metadata": {},
     "output_type": "execute_result"
    }
   ],
   "source": [
    "data=pd.read_csv(\"reviews_target.csv\")\n",
    "print(len(data))\n",
    "data.head()"
   ]
  },
  {
   "cell_type": "code",
   "execution_count": 309,
   "metadata": {},
   "outputs": [
    {
     "name": "stdout",
     "output_type": "stream",
     "text": [
      "(44577, 145932)\n"
     ]
    }
   ],
   "source": [
    "bad=data.query('target == \" bad\" and overall >0')\n",
    "good=data.query('target == \" good\"')\n",
    "bad_n=len(bad)\n",
    "good_n=len(good)\n",
    "all_row=len(data)\n",
    "print(bad_n,good_n)"
   ]
  },
  {
   "cell_type": "code",
   "execution_count": 310,
   "metadata": {},
   "outputs": [
    {
     "data": {
      "text/plain": [
       "[38, 467, 4645, 42326, 98456]"
      ]
     },
     "execution_count": 310,
     "metadata": {},
     "output_type": "execute_result"
    }
   ],
   "source": [
    "#numero di volte per ogni valore di clean dato good\n",
    "clean_g_1=data.query('target == \" good\" and clean == 1')\n",
    "clean_g_2=data.query('target == \" good\" and clean == 2')\n",
    "clean_g_3=data.query('target == \" good\" and clean == 3')\n",
    "clean_g_4=data.query('target == \" good\" and clean == 4')\n",
    "clean_g_5=data.query('target == \" good\" and clean == 5')\n",
    "clean_g=[len(clean_g_1),len(clean_g_2),len(clean_g_3),len(clean_g_4),len(clean_g_5)]\n",
    "clean_g"
   ]
  },
  {
   "cell_type": "code",
   "execution_count": 311,
   "metadata": {},
   "outputs": [
    {
     "data": {
      "text/plain": [
       "[7675, 9820, 14536, 9042, 3506]"
      ]
     },
     "execution_count": 311,
     "metadata": {},
     "output_type": "execute_result"
    }
   ],
   "source": [
    "#numero di volte per ogni valore di clean dato bad\n",
    "clean_b_1=data.query('target == \" bad\" and clean == 1')\n",
    "clean_b_2=data.query('target == \" bad\" and clean == 2')\n",
    "clean_b_3=data.query('target == \" bad\" and clean == 3')\n",
    "clean_b_4=data.query('target == \" bad\" and clean == 4')\n",
    "clean_b_5=data.query('target == \" bad\" and clean == 5')\n",
    "clean_b=[len(clean_b_1),len(clean_b_2),len(clean_b_3),len(clean_b_4),len(clean_b_5)]\n",
    "clean_b"
   ]
  },
  {
   "cell_type": "code",
   "execution_count": 312,
   "metadata": {},
   "outputs": [
    {
     "name": "stdout",
     "output_type": "stream",
     "text": [
      "(47, 524, 8043, 56491, 80827)\n"
     ]
    }
   ],
   "source": [
    "#numero di volte per ogni valore di value dato good\n",
    "value_g_1=data.query('target == \" good\" and value == 1')\n",
    "value_g_2=data.query('target == \" good\" and value == 2')\n",
    "value_g_3=data.query('target == \" good\" and value == 3')\n",
    "value_g_4=data.query('target == \" good\" and value == 4')\n",
    "value_g_5=data.query('target == \" good\" and value == 5')\n",
    "print(len(value_g_1),len(value_g_2),len(value_g_3),len(value_g_4),len(value_g_5))"
   ]
  },
  {
   "cell_type": "code",
   "execution_count": 313,
   "metadata": {},
   "outputs": [
    {
     "name": "stdout",
     "output_type": "stream",
     "text": [
      "(10762, 13413, 16219, 3510, 673)\n"
     ]
    }
   ],
   "source": [
    "#numero di volte per ogni valore di value dato bad\n",
    "value_b_1=data.query('target == \" bad\" and value == 1')\n",
    "value_b_2=data.query('target == \" bad\" and value == 2')\n",
    "value_b_3=data.query('target == \" bad\" and value == 3')\n",
    "value_b_4=data.query('target == \" bad\" and value == 4')\n",
    "value_b_5=data.query('target == \" bad\" and value == 5')\n",
    "print(len(value_b_1),len(value_b_2),len(value_b_3),len(value_b_4),len(value_b_5))"
   ]
  },
  {
   "cell_type": "code",
   "execution_count": 314,
   "metadata": {},
   "outputs": [
    {
     "name": "stdout",
     "output_type": "stream",
     "text": [
      "(57, 1091, 10398, 54828, 79558)\n"
     ]
    }
   ],
   "source": [
    "#numero di volte per ogni valore di room dato good\n",
    "room_g_1=data.query('target == \" good\" and room == 1')\n",
    "room_g_2=data.query('target == \" good\" and room == 2')\n",
    "room_g_3=data.query('target == \" good\" and room == 3')\n",
    "room_g_4=data.query('target == \" good\" and room == 4')\n",
    "room_g_5=data.query('target == \" good\" and room == 5')\n",
    "print(len(room_g_1),len(room_g_2),len(room_g_3),len(room_g_4),len(room_g_5))"
   ]
  },
  {
   "cell_type": "code",
   "execution_count": 315,
   "metadata": {},
   "outputs": [
    {
     "name": "stdout",
     "output_type": "stream",
     "text": [
      "(9983, 12984, 14537, 5641, 1438)\n"
     ]
    }
   ],
   "source": [
    "#numero di volte per ogni valore di room dato bad\n",
    "room_b_1=data.query('target == \" bad\" and room == 1')\n",
    "room_b_2=data.query('target == \" bad\" and room == 2')\n",
    "room_b_3=data.query('target == \" bad\" and room == 3')\n",
    "room_b_4=data.query('target == \" bad\" and room == 4')\n",
    "room_b_5=data.query('target == \" bad\" and room == 5')\n",
    "print(len(room_b_1),len(room_b_2),len(room_b_3),len(room_b_4),len(room_b_5))"
   ]
  },
  {
   "cell_type": "code",
   "execution_count": 316,
   "metadata": {},
   "outputs": [
    {
     "name": "stdout",
     "output_type": "stream",
     "text": [
      "(73, 871, 5016, 50328, 89644)\n"
     ]
    }
   ],
   "source": [
    "#numero di volte per ogni valore di location dato good\n",
    "loc_g_1=data.query('target == \" good\" and location == 1')\n",
    "loc_g_2=data.query('target == \" good\" and location == 2')\n",
    "loc_g_3=data.query('target == \" good\" and location == 3')\n",
    "loc_g_4=data.query('target == \" good\" and location == 4')\n",
    "loc_g_5=data.query('target == \" good\" and location == 5')\n",
    "print(len(loc_g_1),len(loc_g_2),len(loc_g_3),len(loc_g_4),len(loc_g_5))"
   ]
  },
  {
   "cell_type": "code",
   "execution_count": 317,
   "metadata": {},
   "outputs": [
    {
     "name": "stdout",
     "output_type": "stream",
     "text": [
      "(7016, 10121, 14888, 7468, 5084)\n"
     ]
    }
   ],
   "source": [
    "#numero di volte per ogni valore di location dato bad\n",
    "loc_b_1=data.query('target == \" bad\" and location == 1')\n",
    "loc_b_2=data.query('target == \" bad\" and location == 2')\n",
    "loc_b_3=data.query('target == \" bad\" and location == 3')\n",
    "loc_b_4=data.query('target == \" bad\" and location == 4')\n",
    "loc_b_5=data.query('target == \" bad\" and location == 5')\n",
    "print(len(loc_b_1),len(loc_b_2),len(loc_b_3),len(loc_b_4),len(loc_b_5))"
   ]
  },
  {
   "cell_type": "code",
   "execution_count": 318,
   "metadata": {},
   "outputs": [
    {
     "name": "stdout",
     "output_type": "stream",
     "text": [
      "(289, 1319, 6480, 49710, 88134)\n"
     ]
    }
   ],
   "source": [
    "#numero di volte per ogni valore di check dato good\n",
    "check_g_1=data.query('target == \" good\" and check == 1')\n",
    "check_g_2=data.query('target == \" good\" and check == 2')\n",
    "check_g_3=data.query('target == \" good\" and check == 3')\n",
    "check_g_4=data.query('target == \" good\" and check == 4')\n",
    "check_g_5=data.query('target == \" good\" and check == 5')\n",
    "print(len(check_g_1),len(check_g_2),len(check_g_3),len(check_g_4),len(check_g_5))"
   ]
  },
  {
   "cell_type": "code",
   "execution_count": 319,
   "metadata": {},
   "outputs": [
    {
     "name": "stdout",
     "output_type": "stream",
     "text": [
      "(9767, 11532, 16757, 4447, 2074)\n"
     ]
    }
   ],
   "source": [
    "#numero di volte per ogni valore di check dato bad\n",
    "check_b_1=data.query('target == \" bad\" and check == 1')\n",
    "check_b_2=data.query('target == \" bad\" and check == 2')\n",
    "check_b_3=data.query('target == \" bad\" and check == 3')\n",
    "check_b_4=data.query('target == \" bad\" and check == 4')\n",
    "check_b_5=data.query('target == \" bad\" and check == 5')\n",
    "print(len(check_b_1),len(check_b_2),len(check_b_3),len(check_b_4),len(check_b_5))"
   ]
  },
  {
   "cell_type": "code",
   "execution_count": 320,
   "metadata": {},
   "outputs": [
    {
     "name": "stdout",
     "output_type": "stream",
     "text": [
      "(135, 1122, 8257, 47653, 88765)\n"
     ]
    }
   ],
   "source": [
    "#numero di volte per ogni valore di service dato good\n",
    "ser_g_1=data.query('target == \" good\" and service == 1')\n",
    "ser_g_2=data.query('target == \" good\" and service == 2')\n",
    "ser_g_3=data.query('target == \" good\" and service == 3')\n",
    "ser_g_4=data.query('target == \" good\" and service == 4')\n",
    "ser_g_5=data.query('target == \" good\" and service == 5')\n",
    "print(len(ser_g_1),len(ser_g_2),len(ser_g_3),len(ser_g_4),len(ser_g_5))"
   ]
  },
  {
   "cell_type": "code",
   "execution_count": 321,
   "metadata": {},
   "outputs": [
    {
     "name": "stdout",
     "output_type": "stream",
     "text": [
      "(10477, 11286, 14801, 6078, 1941)\n"
     ]
    }
   ],
   "source": [
    "#numero di volte per ogni valore di service dato bad\n",
    "ser_b_1=data.query('target == \" bad\" and service == 1')\n",
    "ser_b_2=data.query('target == \" bad\" and service == 2')\n",
    "ser_b_3=data.query('target == \" bad\" and service == 3')\n",
    "ser_b_4=data.query('target == \" bad\" and service == 4')\n",
    "ser_b_5=data.query('target == \" bad\" and service == 5')\n",
    "print(len(ser_b_1),len(ser_b_2),len(ser_b_3),len(ser_b_4),len(ser_b_5))"
   ]
  },
  {
   "cell_type": "code",
   "execution_count": 322,
   "metadata": {},
   "outputs": [
    {
     "name": "stdout",
     "output_type": "stream",
     "text": [
      "(470, 1807, 10752, 56462, 76441)\n"
     ]
    }
   ],
   "source": [
    "#numero di volte per ogni valore di business dato good\n",
    "b_g_1=data.query('target == \" good\" and business == 1')\n",
    "b_g_2=data.query('target == \" good\" and business == 2')\n",
    "b_g_3=data.query('target == \" good\" and business == 3')\n",
    "b_g_4=data.query('target == \" good\" and business == 4')\n",
    "b_g_5=data.query('target == \" good\" and business == 5')\n",
    "print(len(b_g_1),len(b_g_2),len(b_g_3),len(b_g_4),len(b_g_5))"
   ]
  },
  {
   "cell_type": "code",
   "execution_count": 323,
   "metadata": {},
   "outputs": [
    {
     "name": "stdout",
     "output_type": "stream",
     "text": [
      "(10302, 12721, 18089, 2490, 975)\n"
     ]
    }
   ],
   "source": [
    "#numero di volte per ogni valore di service dato bad\n",
    "b_b_1=data.query('target == \" bad\" and business == 1')\n",
    "b_b_2=data.query('target == \" bad\" and business == 2')\n",
    "b_b_3=data.query('target == \" bad\" and business == 3')\n",
    "b_b_4=data.query('target == \" bad\" and business == 4')\n",
    "b_b_5=data.query('target == \" bad\" and business == 5')\n",
    "print(len(b_b_1),len(b_b_2),len(b_b_3),len(b_b_4),len(b_b_5))"
   ]
  },
  {
   "cell_type": "code",
   "execution_count": 325,
   "metadata": {},
   "outputs": [
    {
     "data": {
      "text/plain": [
       "1.0000448661865984"
      ]
     },
     "execution_count": 325,
     "metadata": {},
     "output_type": "execute_result"
    }
   ],
   "source": [
    "#create view to cpt clean\n",
    "cpt_clean= PrettyTable()\n",
    "cpt_clean.field_names =[\"P(clean|target)\",1,2,3,4,5]\n",
    "good_c=[]\n",
    "bad_c=[]\n",
    "for i in range(len(clean_g)):\n",
    "    good_c.append(float(clean_g[i])/good_n)\n",
    "    bad_c.append(float(clean_b[i])/bad_n)\n",
    "a=sum(good_c)\n",
    "b=sum(bad_c)\n",
    "b"
   ]
  },
  {
   "cell_type": "code",
   "execution_count": 85,
   "metadata": {},
   "outputs": [],
   "source": [
    "skel= GraphSkeleton()"
   ]
  },
  {
   "cell_type": "code",
   "execution_count": 86,
   "metadata": {},
   "outputs": [],
   "source": [
    "skel.load('./skeleton.txt')"
   ]
  },
  {
   "cell_type": "code",
   "execution_count": 87,
   "metadata": {},
   "outputs": [],
   "source": [
    "skel.toporder()"
   ]
  },
  {
   "cell_type": "code",
   "execution_count": 88,
   "metadata": {},
   "outputs": [
    {
     "data": {
      "text/plain": [
       "[u'target']"
      ]
     },
     "execution_count": 88,
     "metadata": {},
     "output_type": "execute_result"
    }
   ],
   "source": [
    "skel.getparents(\"room\")"
   ]
  },
  {
   "cell_type": "code",
   "execution_count": 89,
   "metadata": {},
   "outputs": [
    {
     "data": {
      "text/plain": [
       "[u'clean', u'value', u'room', u'location', u'check', u'service', u'business']"
      ]
     },
     "execution_count": 89,
     "metadata": {},
     "output_type": "execute_result"
    }
   ],
   "source": [
    "skel.getchildren(\"target\")"
   ]
  }
 ],
 "metadata": {
  "kernelspec": {
   "display_name": "Python 2",
   "language": "python",
   "name": "python2"
  },
  "language_info": {
   "codemirror_mode": {
    "name": "ipython",
    "version": 2
   },
   "file_extension": ".py",
   "mimetype": "text/x-python",
   "name": "python",
   "nbconvert_exporter": "python",
   "pygments_lexer": "ipython2",
   "version": "2.7.15rc1"
  }
 },
 "nbformat": 4,
 "nbformat_minor": 2
}
