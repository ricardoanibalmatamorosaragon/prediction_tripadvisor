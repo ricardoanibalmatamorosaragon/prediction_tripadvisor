{
 "cells": [
  {
   "cell_type": "code",
   "execution_count": 1,
   "metadata": {},
   "outputs": [],
   "source": [
    "import numpy as np\n",
    "\n",
    "#Create table\n",
    "from prettytable import PrettyTable\n",
    "\n",
    "#Read csv\n",
    "import pandas as pd\n",
    "\n",
    "#Gegnerate ROC curve graph\n",
    "import matplotlib.pyplot as plt\n",
    "from sklearn.metrics import roc_curve, auc"
   ]
  },
  {
   "cell_type": "code",
   "execution_count": 2,
   "metadata": {},
   "outputs": [],
   "source": [
    "##Confronto tra final_test_naive_bayes e test_target\n",
    "##Confronto tra final_test_our_nb e test_target\n",
    "##Confronto tra target_r e test_target\n",
    "\n",
    "data_naive = pd.read_csv(\"./csv/final_test_naive_bayes.csv\")\n",
    "data_our_nb = pd.read_csv(\"./csv/final_test_our_nb.csv\")\n",
    "data_views_target_r = pd.read_csv(\"./csv/views_target_r.csv\")\n",
    "data_test_target = pd.read_csv(\"./csv/test_target.csv\")\n",
    "\n",
    "##Colonne target dei tre file csv  \n",
    "column_naive = data_naive['target'].values\n",
    "column_our_nb = data_our_nb['target'].values\n",
    "column_views_target_r = data_views_target_r['target'].values\n",
    "column_test_target = data_test_target['target'].values\n",
    "\n",
    "column_test = []\n",
    "binary_naive = []\n",
    "binary_our_nb = []\n",
    "binary_views_target_r = []\n",
    "binary_test = []\n",
    "\n",
    "for i in range(len(column_test_target)):\n",
    "    column_test.append(column_test_target[i][1:])\n",
    "    \n",
    "    if column_naive[i] == \"good\":\n",
    "        binary_naive.append(1)\n",
    "    else:\n",
    "        binary_naive.append(0)\n",
    "    \n",
    "    if column_our_nb[i] == \"good\":\n",
    "        binary_our_nb.append(1)\n",
    "    else:\n",
    "        binary_our_nb.append(0)\n",
    "\n",
    "    if column_views_target_r[i] == \"good\":\n",
    "        binary_views_target_r.append(1)\n",
    "    else:\n",
    "        binary_views_target_r.append(0)\n",
    "\n",
    "    if column_test_target[i] == \"good\":\n",
    "        binary_test.append(1)\n",
    "    else:\n",
    "        binary_test.append(0)\n",
    "    \n",
    "#print(column_naive)\n",
    "#print(column_our_nb)\n",
    "#print(column_views_target_r)\n",
    "#print(column_test)"
   ]
  },
  {
   "cell_type": "code",
   "execution_count": 3,
   "metadata": {},
   "outputs": [],
   "source": [
    "##Funzione per generare la matrice di confusione date le colonne target\n",
    "def create_confusion_matrix(predicted, testing):\n",
    "    \n",
    "    true_positive = 0\n",
    "    false_negative = 0\n",
    "    false_positive = 0\n",
    "    true_negative = 0\n",
    "    i = 0\n",
    "    \n",
    "    for i in range(len(predicted)):\n",
    "        \n",
    "        if testing[i] == \" good\" and predicted[i] == \"good\":\n",
    "            true_positive += 1\n",
    "            \n",
    "        elif testing[i] == \" good\" and predicted[i] == \"bad\":\n",
    "            false_negative += 1\n",
    "            \n",
    "        elif testing[i] == \" bad\" and predicted[i] == \"good\":\n",
    "            false_positive += 1\n",
    "            \n",
    "        elif testing[i] == \" bad\" and predicted[i] == \"bad\":\n",
    "            true_negative += 1\n",
    "\n",
    "    #print(true_positive)\n",
    "    #print(false_negative)\n",
    "    #print(false_positive)\n",
    "    #print(true_negative)\n",
    "    \n",
    "    return true_positive, false_negative, false_positive, true_negative"
   ]
  },
  {
   "cell_type": "code",
   "execution_count": 6,
   "metadata": {},
   "outputs": [],
   "source": [
    "##Funzione per calcolare accuracy, precision, recall, f-measure, specificity e roc curve \n",
    "\n",
    "def performance_unit(confusion_matrix, binary):\n",
    "    \n",
    "    true_positive = confusion_matrix[0]\n",
    "    false_negative = confusion_matrix[1]\n",
    "    false_positive = confusion_matrix[2]\n",
    "    true_negative = confusion_matrix[3]\n",
    "    \n",
    "    #print(true_positive)\n",
    "    #print(false_negative)\n",
    "    #print(false_positive)\n",
    "    #print(true_negative)\n",
    "    \n",
    "    accuracy = (float)(true_positive + true_negative) / (float)(true_positive + false_negative + false_positive + true_negative)\n",
    "    precision = (float)(true_positive) / (float)(true_positive + false_positive)\n",
    "    recall = (float)(true_positive) / (float)(true_positive + false_negative)\n",
    "    fmeasure = (float)(2 * precision * recall) / (float)(precision + recall)\n",
    "    \n",
    "    ##VIENE UGUALE ALLA F-MEASURE\n",
    "    specificity = (float)(true_negative) / (float)(true_negative + false_positive)\n",
    "    FP_rate = (float)(false_positive) / (float)(true_negative + false_positive)\n",
    "    \n",
    "    print(\"Accuracy = \" + str(accuracy))\n",
    "    print(\"Precision = \" + str(precision))\n",
    "    print(\"Recall = \" + str(recall))\n",
    "    print(\"F-measure = \" + str(fmeasure))\n",
    "    print(\"Specificity = \" + str(specificity))\n",
    "    \n",
    "    print_roc_curve()\n",
    "    "
   ]
  },
  {
   "cell_type": "code",
   "execution_count": null,
   "metadata": {},
   "outputs": [],
   "source": [
    "##Funzione per grafico ROC-curve ed AUC\n",
    "\n",
    "def print_roc_curve()\n",
    "    '''\n",
    "    fpr = dict()\n",
    "    tpr = dict()\n",
    "    roc_auc = dict()\n",
    "    for i in range(2):\n",
    "        fpr[i], tpr[i], _ = roc_curve(binary_test, binary)\n",
    "        roc_auc[i] = auc(fpr[i], tpr[i])\n",
    "\n",
    "    ##Print roc_auc_score(binary_test, binary)\n",
    "    plt.figure()\n",
    "    plt.plot(fpr[1], tpr[1])\n",
    "    plt.xlim([0.0, 1.0])\n",
    "    plt.ylim([0.0, 1.05])\n",
    "    plt.xlabel('False Positive Rate')\n",
    "    plt.ylabel('True Positive Rate')\n",
    "    plt.title('Receiver operating characteristic')\n",
    "    plt.show()\n",
    "    print(\"\\n\")\n",
    "\n",
    "    x = false_positive # false_positive_rate\n",
    "    y = true_positive # true_positive_rate \n",
    "\n",
    "    # This is the ROC curve\n",
    "    plt.plot(binary_test,binary)\n",
    "    plt.show() \n",
    "\n",
    "    # This is the AUC\n",
    "    auc = np.trapz(binary,binary_test)\n",
    "    '''\n",
    "    \n",
    "    thresholds = np.arange(0.0, 1.01, .01)\n",
    "    # false positive rate\n",
    "    fpr = []\n",
    "    # true positive rate\n",
    "    tpr = []\n",
    "    TP = 0\n",
    "    FP = 0\n",
    "    \n",
    "    P = sum(binary_test)\n",
    "    N = len(binary_test) - P\n",
    "    \n",
    "    '''\n",
    "        for i in range(len(score)):\n",
    "            if (score[i] > thresh):\n",
    "                if y[i] == 1:\n",
    "                    TP = TP + 1\n",
    "                if y[i] == 0:\n",
    "                    FP = FP + 1\n",
    "        fpr.append(FP/float(N))\n",
    "        tpr.append(TP/float(P))\n",
    "    '''\n",
    "    for thresh in thresholds:\n",
    "        for i in range(len(binary)):\n",
    "\n",
    "            if binary_test[i] == \"1\" and binary[i] == \"1\":\n",
    "                TP += 1\n",
    "                tpr.append(TP/float(P))\n",
    "\n",
    "            if binary_test[i] == \"0\" and binary[i] == \"1\":\n",
    "                FP += 1\n",
    "                fpr.append(FP/float(N))\n",
    "\n",
    "\n",
    "    plt.scatter(fpr, tpr)\n",
    "    plt.show()"
   ]
  },
  {
   "cell_type": "code",
   "execution_count": 7,
   "metadata": {},
   "outputs": [
    {
     "name": "stdout",
     "output_type": "stream",
     "text": [
      "Accuracy = 0.919214744721\n",
      "Precision = 0.958960610435\n",
      "Recall = 0.925741588692\n",
      "F-measure = 0.94205834684\n",
      "Specificity = 0.903280680437\n"
     ]
    },
    {
     "data": {
      "image/png": "[encoded data removed]",
      "text/plain": [
       "<Figure size 432x288 with 1 Axes>"
      ]
     },
     "metadata": {
      "needs_background": "light"
     },
     "output_type": "display_data"
    },
    {
     "name": "stdout",
     "output_type": "stream",
     "text": [
      "Accuracy = 0.901631240732\n",
      "Precision = 0.944792844659\n",
      "Recall = 0.914791956998\n",
      "F-measure = 0.929550397006\n",
      "Specificity = 0.8695018226\n"
     ]
    },
    {
     "data": {
      "image/png": "[encoded data removed]",
      "text/plain": [
       "<Figure size 432x288 with 1 Axes>"
      ]
     },
     "metadata": {
      "needs_background": "light"
     },
     "output_type": "display_data"
    },
    {
     "name": "stdout",
     "output_type": "stream",
     "text": [
      "Accuracy = 0.915118988772\n",
      "Precision = 0.937561844449\n",
      "Recall = 0.943161457296\n",
      "F-measure = 0.940353314807\n",
      "Specificity = 0.846658566221\n"
     ]
    },
    {
     "data": {
      "image/png": "[encoded data removed]",
      "text/plain": [
       "<Figure size 432x288 with 1 Axes>"
      ]
     },
     "metadata": {
      "needs_background": "light"
     },
     "output_type": "display_data"
    }
   ],
   "source": [
    "\n",
    "cm_naive = create_confusion_matrix(column_naive, column_test_target)\n",
    "cm_our_nb = create_confusion_matrix(column_our_nb, column_test_target)\n",
    "cm_views_target_r = create_confusion_matrix(column_views_target_r, column_test_target)\n",
    "\n",
    "performance_unit(cm_naive, binary_naive)\n",
    "performance_unit(cm_our_nb, binary_our_nb)\n",
    "performance_unit(cm_views_target_r, binary_views_target_r)\n"
   ]
  },
  {
   "cell_type": "code",
   "execution_count": null,
   "metadata": {},
   "outputs": [],
   "source": []
  }
 ],
 "metadata": {
  "kernelspec": {
   "display_name": "Python 2",
   "language": "python",
   "name": "python2"
  },
  "language_info": {
   "codemirror_mode": {
    "name": "ipython",
    "version": 2
   },
   "file_extension": ".py",
   "mimetype": "text/x-python",
   "name": "python",
   "nbconvert_exporter": "python",
   "pygments_lexer": "ipython2",
   "version": "2.7.16"
  }
 },
 "nbformat": 4,
 "nbformat_minor": 2
}
