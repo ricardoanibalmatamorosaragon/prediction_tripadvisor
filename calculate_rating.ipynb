{
 "cells": [
  {
   "cell_type": "code",
   "execution_count": 1,
   "metadata": {},
   "outputs": [],
   "source": [
    "#read csv\n",
    "import pandas as pd\n",
    "from pandas import DataFrame"
   ]
  },
  {
   "cell_type": "code",
   "execution_count": 2,
   "metadata": {},
   "outputs": [],
   "source": [
    "data=pd.read_csv(\"./csv/result_assumption/testing_assumption_netbayesain.csv\")"
   ]
  },
  {
   "cell_type": "code",
   "execution_count": 3,
   "metadata": {},
   "outputs": [],
   "source": [
    "hotels={}\n",
    "for i in data['hotel']:\n",
    "    hotels[i]=0\n"
   ]
  },
  {
   "cell_type": "code",
   "execution_count": 4,
   "metadata": {},
   "outputs": [],
   "source": [
    "def rating(hotel):\n",
    "    value_g_1=data.query('hotel ==\"'+hotel+'\" and target == \"good\" and overall == 1')\n",
    "    value_g_2=data.query('hotel ==\"'+hotel+'\" and target == \"good\" and overall == 2')\n",
    "    value_g_3=data.query('hotel ==\"'+hotel+'\" and target == \"good\" and overall == 3')\n",
    "    value_g_4=data.query('hotel ==\"'+hotel+'\" and target == \"good\" and overall == 4')\n",
    "    value_g_5=data.query('hotel ==\"'+hotel+'\" and target == \"good\" and overall == 5')\n",
    "    value_b_1=data.query('hotel ==\"'+hotel+'\" and target == \"bad\" and overall == 1')\n",
    "    value_b_2=data.query('hotel ==\"'+hotel+'\" and target == \"bad\" and overall == 2')\n",
    "    value_b_3=data.query('hotel ==\"'+hotel+'\" and target == \"bad\" and overall == 3')\n",
    "    value_b_4=data.query('hotel ==\"'+hotel+'\" and target == \"bad\" and overall == 4')\n",
    "    value_b_5=data.query('hotel ==\"'+hotel+'\" and target == \"bad\" and overall == 5')\n",
    "    value_g=[len(value_g_1),len(value_g_2),len(value_g_3),len(value_g_4),len(value_g_5)]\n",
    "    value_b=[len(value_b_1),len(value_b_2),len(value_b_3),len(value_b_4),len(value_b_5)]\n",
    "    final_rating=float(sum(value_g))/(sum(value_g)+sum(value_b))*5\n",
    "    return final_rating"
   ]
  },
  {
   "cell_type": "code",
   "execution_count": 6,
   "metadata": {},
   "outputs": [],
   "source": [
    "for hotel in hotels.keys():\n",
    "    hotels[hotel]=round(rating(hotel),1)"
   ]
  },
  {
   "cell_type": "code",
   "execution_count": 7,
   "metadata": {},
   "outputs": [],
   "source": [
    "data_overall={'hotel' : hotels.keys(), 'overall': hotels.values()}\n",
    "df = DataFrame(data_overall,columns= ['hotel', 'overall'])"
   ]
  },
  {
   "cell_type": "code",
   "execution_count": 8,
   "metadata": {},
   "outputs": [],
   "source": [
    "df.to_csv(\"./csv/overall_testing_assumption_netbayesian.csv\",index=False)"
   ]
  },
  {
   "cell_type": "code",
   "execution_count": null,
   "metadata": {},
   "outputs": [],
   "source": []
  }
 ],
 "metadata": {
  "kernelspec": {
   "display_name": "Python 2",
   "language": "python",
   "name": "python2"
  },
  "language_info": {
   "codemirror_mode": {
    "name": "ipython",
    "version": 2
   },
   "file_extension": ".py",
   "mimetype": "text/x-python",
   "name": "python",
   "nbconvert_exporter": "python",
   "pygments_lexer": "ipython2",
   "version": "2.7.15rc1"
  }
 },
 "nbformat": 4,
 "nbformat_minor": 2
}
